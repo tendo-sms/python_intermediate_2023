{
  "cells": [
    {
      "cell_type": "markdown",
      "metadata": {
        "id": "bF0BqW-Plpx_"
      },
      "source": [
        "# [講義] HyperSpy入門\n",
        "\n",
        "## HyperSpyの概要\n",
        "「HyperSpy」は、Pythonで記述された多次元データ解析のためのライブラリです。次のような特徴があります。\n",
        "\n",
        "- 電子顕微鏡、X線回折、走査プローブ顕微鏡、ラマン分光法などの信号解析ができます。\n",
        "- フィルタリング、線形回帰の他、主成分分析、非負値行列分解などのクラスタリング機能があります。\n",
        "- 可視化ツールが含まれています。\n",
        "- 化学元素のデータベースが含まれています。\n",
        "\n",
        "目次：\n",
        "1. [インストール](#インストール)\n",
        "2. [インポート](#インポート)\n",
        "3. [入力ファイルのロード](#入力ファイルのロード)\n",
        "4. [ファイルの保存](#ファイルの保存)\n",
        "5. [シグナルとナビゲーション](#シグナルとナビゲーション)\n",
        "6. [シグナルの分類](#シグナルの分類)\n",
        "7. [Indexing](#Indexing)\n",
        "8. [プロット](#プロット)\n",
        "9. [バックグラウンドの除去](#バックグラウンドの除去)\n",
        "10. [キャリブレーション](#キャリブレーション)\n",
        "11. [スムージング](#スムージング)\n",
        "12. [スパイクの除去](#スパイクの除去)\n",
        "1. [機械学習](#機械学習)\n",
        "13. [フィッティング](#フィッティング)  \n",
        "\n",
        "はじめに、本講義で使用するファイルを皆さんの環境にダウンロードするため、次のコードを実行してください。"
      ]
    },
    {
      "cell_type": "markdown",
      "metadata": {
        "id": "dfRKneRulpyB"
      },
      "source": [
        "# HyperSpyのインストール\n",
        "HyperSpyは、以下の方法でインストールすることができます。\n",
        "\n",
        "1. pip インストール\n",
        "  - pip install hyperspy: 必要最低限の機能\n",
        "  - pip install hyperspy[all]: 全ての機能\n",
        "2. conda インストール\n",
        "  - conda install hyperspy-base -c conda-forge\n",
        "  - conda install hyperspy -c conda-forge：　GUIパッケージも含む\n",
        "3. HyperSpy bundle (Python、Hyperspy、その他の主要ライブラリを含む)\n",
        "\n",
        "http://hyperspy.org/hyperspy-doc/current/user_guide/install.html\n",
        "\n",
        "ここでは、pipコマンドにて必要最低限の機能をインストールします。\n",
        "\n",
        "次のコマンドを実行してください。"
      ]
    },
    {
      "cell_type": "code",
      "source": [
        "!pip install hyperspy"
      ],
      "metadata": {
        "id": "2hrT-nyn-KGH"
      },
      "execution_count": null,
      "outputs": []
    },
    {
      "cell_type": "markdown",
      "source": [
        "# Google ColaboratoryでのインタラクティブなMatplotlib操作について\n",
        "pipコマンドの終了を待つ間に・・・\n",
        "\n",
        "Google ColaboratoryやJupyter Notebook/JupyterLabでは、Matplotlibのグラフがデフォルトでは画像に変換されて画面表示されます。このため、インタラクティブな操作ができません。\n",
        "\n",
        "グラフのインタラクティブな操作を行いたい場合、あらかじめ次のコードを実行しておく必要があります。\n",
        "\n",
        "~~~\n",
        "%matplotlib nbagg\n",
        "~~~"
      ],
      "metadata": {
        "id": "iXS62y9QGw72"
      }
    },
    {
      "cell_type": "markdown",
      "source": [
        "# HyperSpyが対応するフォーマット\n",
        "HyperSpyは、大別すると以下のフォーマットに対応しています。\n",
        "\n",
        "- バイナリファイル (Gatan’s dm3/dm4、EDAX spc and spd、MRCなど)\n",
        "- テキストファイル (ASCII、CSV、TSV、等間隔行列など)\n",
        "- HDF5形式ファイル\n",
        "\n",
        "全ての対応フォーマットは以下に記載があります。\n",
        "https://hyperspy.org/hyperspy-doc/current/user_guide/io.html#supported-formats\n",
        "\n",
        "Hyperspyは入力ファイルの拡張子やその内容から、ファイルの種類を**推察**し、適切なIOプラグインを選択します。"
      ],
      "metadata": {
        "id": "I0eEER9B_Nas"
      }
    },
    {
      "cell_type": "markdown",
      "metadata": {
        "id": "arVFm_76lpyB"
      },
      "source": [
        "# HyperSpyのimport\n",
        "HyperSpyをプログラムで利用するには、代表的なモジュールとして、「<font color=\"red\">**hyperspy.api**</font>」をimportするのが一般的です。\n",
        "\n",
        "また慣例として、asを使って「<font color=\"red\">**hs**</font>」でimportします。\n",
        "\n",
        "~~~\n",
        "import hyperspy.api as hs\n",
        "~~~"
      ]
    },
    {
      "cell_type": "markdown",
      "metadata": {
        "id": "wCYINEQLlpyD"
      },
      "source": [
        "# 入力データの読み込み\n",
        "入力データを読み込むには、次のような方法があります。\n",
        "\n",
        "* ローカルに保存したファイルから読み込む\n",
        "* NumPy配列で作成したデータから読み込む\n",
        "* HyperSpyに付属するサンプルデータから読み込む\n",
        "\n",
        "それぞれについて、実際にプログラムを動かして試してみましょう。"
      ]
    },
    {
      "cell_type": "code",
      "source": [
        "# 必要なライブラリをインポート\n",
        "%matplotlib notebook\n",
        "import hyperspy.api as hs\n",
        "\n",
        "# ダミーのデータを作成\n",
        "s = hs.load(\"test_stackbuilder_imagestack.dm3\")\n",
        "\n",
        "# Matplotlibの対話モードを有効にする\n",
        "\n",
        "\n",
        "# HyperSpyの対話的なプロットウィンドウを開く\n",
        "s.plot()"
      ],
      "metadata": {
        "id": "4so109U9WqW-"
      },
      "execution_count": null,
      "outputs": []
    },
    {
      "cell_type": "markdown",
      "metadata": {
        "id": "2lJuqBVJlpyD"
      },
      "source": [
        "## ローカルに保存したファイルから読み込む"
      ]
    },
    {
      "cell_type": "code",
      "source": [
        "%matplotlib nbagg\n",
        "# import matplotlib.pyplot as plt\n",
        "import hyperspy.api as hs\n",
        "\n",
        "s = hs.load(\"test_stackbuilder_imagestack.dm3\")\n",
        "s.plot()\n",
        "# plt.show()"
      ],
      "metadata": {
        "id": "GRz4KkYKNGmv"
      },
      "execution_count": null,
      "outputs": []
    },
    {
      "cell_type": "code",
      "execution_count": null,
      "metadata": {
        "id": "wj77qDnJlpyE"
      },
      "outputs": [],
      "source": [
        "%matplotlib nbagg\n",
        "import hyperspy.api as hs\n",
        "\n",
        "# データのダウンロード\n",
        "from urllib.request import urlretrieve, urlopen\n",
        "from zipfile import ZipFile\n",
        "files = urlretrieve(\"https://www.dropbox.com/s/dt6bc3dtg373ahw/machine_learning.zip?raw=1\", \"./machine_learning.zip\")\n",
        "\n",
        "with ZipFile(\"machine_learning.zip\") as z:\n",
        "    z.extractall()\n",
        "\n",
        "# ローカルファイルの読み込み\n",
        "s = hs.load(\"machine_learning/CL1.hdf5\")"
      ]
    },
    {
      "cell_type": "code",
      "execution_count": null,
      "metadata": {
        "id": "jC9aTNTGlpyF"
      },
      "outputs": [],
      "source": [
        "# plot()で図を表示\n",
        "s.plot()"
      ]
    },
    {
      "cell_type": "code",
      "execution_count": null,
      "metadata": {
        "id": "yV_PXi0OlpyF"
      },
      "outputs": [],
      "source": [
        "# dataでデータを確認\n",
        "s.data"
      ]
    },
    {
      "cell_type": "code",
      "execution_count": null,
      "metadata": {
        "id": "ONc6bo45lpyG"
      },
      "outputs": [],
      "source": [
        "s.data.shape"
      ]
    },
    {
      "cell_type": "code",
      "execution_count": null,
      "metadata": {
        "id": "FEPBh1D9lpyG"
      },
      "outputs": [],
      "source": [
        "# 入力ファイルに含まれていたメタデータを確認\n",
        "s.original_metadata"
      ]
    },
    {
      "cell_type": "code",
      "execution_count": null,
      "metadata": {
        "id": "sI-zb6XSlpyG"
      },
      "outputs": [],
      "source": [
        "# 上記のオリジナルメタデータからHyperSpyが生成した新しいメタデータを確認（内部ではこのメタデータを使用します）\n",
        "s.metadata"
      ]
    },
    {
      "cell_type": "code",
      "execution_count": null,
      "metadata": {
        "id": "qjABfrRXlpyH"
      },
      "outputs": [],
      "source": [
        "# metadataは編集可能です\n",
        "s.metadata.General.title = \"hoge\"\n",
        "s.metadata"
      ]
    },
    {
      "cell_type": "code",
      "execution_count": null,
      "metadata": {
        "id": "gWnc2vUllpyH"
      },
      "outputs": [],
      "source": [
        "# metadataには任意の項目も設定可能です\n",
        "s.metadata.Signal.hoge = \"hoge\"\n",
        "s.metadata"
      ]
    },
    {
      "cell_type": "code",
      "execution_count": null,
      "metadata": {
        "id": "d2WDKR-rlpyH"
      },
      "outputs": [],
      "source": [
        "# キャリブレーションを含む各次元の情報を確認\n",
        "s.axes_manager"
      ]
    },
    {
      "cell_type": "code",
      "execution_count": null,
      "metadata": {
        "id": "Dh6cyLOLlpyH"
      },
      "outputs": [],
      "source": [
        "# データのサマリーを確認\n",
        "s.print_summary_statistics()"
      ]
    },
    {
      "cell_type": "markdown",
      "metadata": {
        "id": "lnbJ-14flpyI"
      },
      "source": [
        "## numpy arrayで作成したデータから読み込む"
      ]
    },
    {
      "cell_type": "code",
      "execution_count": null,
      "metadata": {
        "id": "e-4fEb9SlpyI"
      },
      "outputs": [],
      "source": [
        "# numpy arrayで作成したデータの読み込み\n",
        "import numpy as np\n",
        "my_np_array = np.random.random((3,20,100))\n",
        "s = hs.signals.Signal1D(my_np_array)\n",
        "s"
      ]
    },
    {
      "cell_type": "code",
      "execution_count": null,
      "metadata": {
        "id": "jUZQgjD1lpyI"
      },
      "outputs": [],
      "source": [
        "s.metadata"
      ]
    },
    {
      "cell_type": "code",
      "execution_count": null,
      "metadata": {
        "id": "oDnnZySMlpyI"
      },
      "outputs": [],
      "source": [
        "s.plot()"
      ]
    },
    {
      "cell_type": "markdown",
      "metadata": {
        "id": "p_wUMS8TlpyI"
      },
      "source": [
        "## HyperSpyに付属するサンプルデデータから読み込む"
      ]
    },
    {
      "cell_type": "markdown",
      "metadata": {
        "id": "r7-Yu10dlpyI"
      },
      "source": [
        "### ホログラム（hs.datasets.exemple_signals）"
      ]
    },
    {
      "cell_type": "code",
      "execution_count": null,
      "metadata": {
        "id": "V8O1_tgalpyI"
      },
      "outputs": [],
      "source": [
        "# hs.datasets.exemple_signalsに格納されたサンプルデータの読み込み\n",
        "s = hs.datasets.example_signals.object_hologram()\n",
        "s.plot()"
      ]
    },
    {
      "cell_type": "code",
      "execution_count": null,
      "metadata": {
        "id": "W8I6ZxUslpyJ"
      },
      "outputs": [],
      "source": [
        "s.metadata"
      ]
    },
    {
      "cell_type": "markdown",
      "metadata": {
        "id": "G_sHZ3yolpyJ"
      },
      "source": [
        "### EELSスペクトラム（hs.datasets.eelsdb）"
      ]
    },
    {
      "cell_type": "code",
      "execution_count": null,
      "metadata": {
        "id": "U2QD56aWlpyJ"
      },
      "outputs": [],
      "source": [
        "# The EELS Databaseからの読み込み\n",
        "s = hs.datasets.eelsdb(formula=\"B2O3\")\n",
        "s"
      ]
    },
    {
      "cell_type": "code",
      "execution_count": null,
      "metadata": {
        "id": "LGPKZ12vlpyJ"
      },
      "outputs": [],
      "source": [
        "s[0].plot()"
      ]
    },
    {
      "cell_type": "code",
      "execution_count": null,
      "metadata": {
        "id": "zGEAtZDplpyJ"
      },
      "outputs": [],
      "source": [
        "s[0].metadata"
      ]
    },
    {
      "cell_type": "markdown",
      "metadata": {
        "id": "vYZrF1w7lpyJ"
      },
      "source": [
        "### EDS TEMスペクトラム（hs.datasets.example_signals）"
      ]
    },
    {
      "cell_type": "code",
      "execution_count": null,
      "metadata": {
        "id": "UP6JX1HilpyK"
      },
      "outputs": [],
      "source": [
        "# datasets.example_signalsに格納されたサンプルデータの読み込み\n",
        "s = hs.datasets.example_signals.EDS_TEM_Spectrum()\n",
        "s.plot()"
      ]
    },
    {
      "cell_type": "code",
      "execution_count": null,
      "metadata": {
        "id": "yuG_eGSvlpyK"
      },
      "outputs": [],
      "source": [
        "s.metadata"
      ]
    },
    {
      "cell_type": "markdown",
      "metadata": {
        "id": "sVqiaqnplpyK"
      },
      "source": [
        "# ファイルの保存\n",
        "\n",
        "データは save()で保存することができます。  \n",
        "引数にファイル名を指定し、ファイル名の拡張子を参照しファイルフォーマットを決定します。  \n",
        "対応フォーマットは以下を参照のこと。  \n",
        "https://hyperspy.org/hyperspy-doc/current/user_guide/io.html#supported-formats\n",
        "\n",
        "拡張子を指定しない場合は、デフォルトではHDF5形式で保存します。"
      ]
    },
    {
      "cell_type": "code",
      "execution_count": null,
      "metadata": {
        "id": "Q4D_4GKdlpyK"
      },
      "outputs": [],
      "source": [
        "# save the data as an hspy file\n",
        "s.save(\"example.hspy\")"
      ]
    },
    {
      "cell_type": "markdown",
      "metadata": {
        "id": "iH_DJMAClpyK"
      },
      "source": [
        "# シグナルとナビゲーション\n",
        "\n",
        "- シグナル\n",
        "     - HyperSpyでは、データセットを配列として扱います。これを「シグナル」と呼びます。\n",
        "\n",
        "- ナビゲーション\n",
        "    - ３Dデータの場合は、シグナルに「ナビゲーション」が加わります。\n",
        "    - ナビゲーションは、複数のシグナルを管理し、3Dデータのスライスや視覚化の設定を扱います。\n",
        "    \n",
        "データオブジェクトのdimentionsでは、ナビゲーション（左）とシグナル（右）の間にセパレーターが挟まれています。"
      ]
    },
    {
      "cell_type": "code",
      "execution_count": null,
      "metadata": {
        "id": "SJ6PPDQclpyL"
      },
      "outputs": [],
      "source": [
        "# スペクトラムイメージの例（ナビゲーション：２次元、シグナル：１次元）\n",
        "s = hs.signals.Signal1D(np.random.random((3, 20, 100)))\n",
        "s"
      ]
    },
    {
      "cell_type": "code",
      "execution_count": null,
      "metadata": {
        "id": "vF-C9xU3lpyL"
      },
      "outputs": [],
      "source": [
        "# プロットすると、ナビゲーションの図には赤い枠がつき、赤い枠で示されたナビゲーションのシグナルが下に表示される\n",
        "# 赤い枠はドラッグすることができる\n",
        "s.plot()"
      ]
    },
    {
      "cell_type": "code",
      "execution_count": null,
      "metadata": {
        "id": "VUrOiJHelpyM"
      },
      "outputs": [],
      "source": [
        "# イメージが3つスタックされているデータの例（ナビゲーション：１次元、シグナル：２次元）\n",
        "s = hs.signals.Signal2D(np.random.random((3, 20, 100)))\n",
        "s"
      ]
    },
    {
      "cell_type": "code",
      "execution_count": null,
      "metadata": {
        "id": "-7nPMnPllpyM"
      },
      "outputs": [],
      "source": [
        "# わかりにくいが、ナビゲーション図左端に赤線があり、赤線が示すナビゲーションのシグナルが下に表示される。\n",
        "# 赤い線はドラッグすることができる\n",
        "s.plot()"
      ]
    },
    {
      "cell_type": "code",
      "execution_count": null,
      "metadata": {
        "id": "WDvdZT0elpyM"
      },
      "outputs": [],
      "source": [
        "# ３次元のシグナルとして読み込む（ナビゲーション：なし、シグナル：3次元）\n",
        "# s.plot()はできない。（3Dデータのプロットは別途mayavi を利用する）\n",
        "# mayavi: https://mayavi.readthedocs.io/ja/latest/\n",
        "s = hs.signals.BaseSignal(np.random.random((3, 20, 100)))\n",
        "s"
      ]
    },
    {
      "cell_type": "markdown",
      "metadata": {
        "id": "wUbbYuVPlpyM"
      },
      "source": [
        "# シグナルの分類\n",
        "\n",
        "- hs.load()を利用してロードしたデータは、全てBaseSigalクラスに保管されます。\n",
        "- BaseSignalにはさまざまなサブクラスがあります。\n",
        "    - Signal1D\n",
        "    - Signal2D\n",
        "    - EDS Spectrum\n",
        "    - Hologram\n",
        "    - Dielectric Function\n",
        "    - ...などなど\n",
        "\n",
        "\n",
        "- サブクラスは、データの持つ以下の要素によって**自動的**に選択されます。\n",
        "    - Signalの次元数\n",
        "    - dtype (real/complex) *complex: 複素数/振幅/位相など\n",
        "    - signal_type\n",
        "\n",
        "<img src=\"http://hyperspy.org/hyperspy-doc/current/_images/HyperSpySignalOverview.png\">"
      ]
    },
    {
      "cell_type": "markdown",
      "metadata": {
        "id": "1six67XXlpyM"
      },
      "source": [
        "例えば、次のセルで読み込むデータは、以下の特徴を持っているため、「EELSSpectrum」　と判別されました。\n",
        "- シグナルの次元数: 1\n",
        "- signal_type: EELS\n",
        "- dtype: fload\n",
        "\n",
        "BaseSignalのサブクラスと、metadataの属性の一覧は以下のとおり。\n",
        "\n",
        "|　BaseSignal subclass　|　signal_dimension　|　signal_type　|　dtype　|\n",
        "| ---- | ---- | ---- | ---- |\n",
        "| BaseSignal | - | - | real |\n",
        "| Signal1D | 1 | - | real |\n",
        "| EELSSpectrum | 1 | EELS | real |\n",
        "| EDSSEMSpectrum | 1 | EDS_SEM | real |\n",
        "| EDSTEM | 1 | EDS_TEM | real |\n",
        "| Signal2D | 2 | - | real |\n",
        "| HologramImage | 2 | hologram | real |\n",
        "| DielecticFuntion | 1 | - | complex |\n",
        "| ComplexSignal | - | - | complex |\n",
        "| ComplexSignal1D | 1 | - | complex |\n",
        "| Complex2D | 2 | - | complex| |"
      ]
    },
    {
      "cell_type": "markdown",
      "metadata": {
        "id": "1JtAHklqlpyM"
      },
      "source": [
        "なお、HyperSpyの拡張パッケージをインストールした場合は、この限りではありません。\n",
        "使用可能なサブクラスは、hs.print_known_signal_types()で確認できます。\n",
        "拡張パッケージ： https://github.com/hyperspy/hyperspy-extensions-list"
      ]
    },
    {
      "cell_type": "code",
      "execution_count": null,
      "metadata": {
        "id": "p2M9-HfjlpyM"
      },
      "outputs": [],
      "source": [
        "hs.print_known_signal_types()"
      ]
    },
    {
      "cell_type": "code",
      "execution_count": null,
      "metadata": {
        "id": "ZVgbyel9lpyN"
      },
      "outputs": [],
      "source": [
        "#　サブクラスは別のサブクラスに変換可能です\n",
        "s = hs.signals.Signal1D(np.random.random((10,20,100)))\n",
        "s"
      ]
    },
    {
      "cell_type": "code",
      "execution_count": null,
      "metadata": {
        "id": "6TJrP270lpyN"
      },
      "outputs": [],
      "source": [
        "s.metadata"
      ]
    },
    {
      "cell_type": "code",
      "execution_count": null,
      "metadata": {
        "id": "f2Bym5CDlpyN"
      },
      "outputs": [],
      "source": [
        "s.data.dtype"
      ]
    },
    {
      "cell_type": "code",
      "execution_count": null,
      "metadata": {
        "id": "YED_yo5ilpyN"
      },
      "outputs": [],
      "source": [
        "s.plot()"
      ]
    },
    {
      "cell_type": "code",
      "execution_count": null,
      "metadata": {
        "id": "XEPiC2eTlpyO"
      },
      "outputs": [],
      "source": [
        "# signal2Dに変換\n",
        "im = s.to_signal2D()\n",
        "im"
      ]
    },
    {
      "cell_type": "code",
      "execution_count": null,
      "metadata": {
        "id": "Qi4iIdf5lpyO"
      },
      "outputs": [],
      "source": [
        "im.metadata"
      ]
    },
    {
      "cell_type": "code",
      "execution_count": null,
      "metadata": {
        "id": "_-omZ1U8lpyO"
      },
      "outputs": [],
      "source": [
        "im.data.dtype"
      ]
    },
    {
      "cell_type": "code",
      "execution_count": null,
      "metadata": {
        "id": "d1Mrw_7OlpyO"
      },
      "outputs": [],
      "source": [
        "im.plot()"
      ]
    },
    {
      "cell_type": "code",
      "execution_count": null,
      "metadata": {
        "id": "84dB1levlpyO"
      },
      "outputs": [],
      "source": [
        "# EELSSpectrumに変換\n",
        "s.set_signal_type(\"EELS\")\n",
        "s"
      ]
    },
    {
      "cell_type": "code",
      "execution_count": null,
      "metadata": {
        "id": "JjEqsas5lpyP"
      },
      "outputs": [],
      "source": [
        "s.metadata"
      ]
    },
    {
      "cell_type": "markdown",
      "metadata": {
        "id": "geiAdEMOlpyP"
      },
      "source": [
        "# Indexing\n",
        "\n",
        "BaseSignal はNumpyのようにデータをスライスすることができます。\n",
        "ナビゲーションの操作は inav, シグナルの操作は isigを使います。"
      ]
    },
    {
      "cell_type": "code",
      "execution_count": null,
      "metadata": {
        "id": "FH-d4JtClpyP"
      },
      "outputs": [],
      "source": [
        "s = hs.signals.Signal1D(np.arange(10))\n",
        "s"
      ]
    },
    {
      "cell_type": "code",
      "execution_count": null,
      "metadata": {
        "id": "Du3mFuRllpyP"
      },
      "outputs": [],
      "source": [
        "s.data"
      ]
    },
    {
      "cell_type": "code",
      "execution_count": null,
      "metadata": {
        "id": "0ix5qBmClpyP"
      },
      "outputs": [],
      "source": [
        "s.isig[0]"
      ]
    },
    {
      "cell_type": "code",
      "execution_count": null,
      "metadata": {
        "id": "AWgLk85hlpyP"
      },
      "outputs": [],
      "source": [
        "s.isig[0].data"
      ]
    },
    {
      "cell_type": "code",
      "execution_count": null,
      "metadata": {
        "id": "pbs_GhoTlpyQ"
      },
      "outputs": [],
      "source": [
        "s.isig[9].data"
      ]
    },
    {
      "cell_type": "code",
      "execution_count": null,
      "metadata": {
        "id": "OjZ0MqenlpyQ"
      },
      "outputs": [],
      "source": [
        "s.isig[-1].data"
      ]
    },
    {
      "cell_type": "code",
      "execution_count": null,
      "metadata": {
        "id": "Cdx7ywTslpyR"
      },
      "outputs": [],
      "source": [
        "s.isig[:5].data"
      ]
    },
    {
      "cell_type": "code",
      "execution_count": null,
      "metadata": {
        "id": "n0cp_aQdlpyR"
      },
      "outputs": [],
      "source": [
        "s.isig[5::2].data"
      ]
    },
    {
      "cell_type": "code",
      "execution_count": null,
      "metadata": {
        "id": "1vAz_U0SlpyR"
      },
      "outputs": [],
      "source": [
        "s.isig[5::-1].data"
      ]
    },
    {
      "cell_type": "markdown",
      "metadata": {
        "id": "GhElxwV0lpyR"
      },
      "source": [
        "# プロット\n",
        "\n",
        "- plot()で、ナビゲーションとシグナルをプロットすることができます。\n",
        "- イメージのみプロットする場合は、plot_images()という機能もあります。\n",
        "- 複数のスペクトルをプロットするplot_spectra(), 複数のシグナルをプロットするplot_signals()もあります。\n",
        "- ３Dデータについては、Mayaviを別途用意する必要があります。\n",
        "- ROIを組み合わせることで、以下のような操作も可能です。\n",
        "    - ROIで指定したシグナル部分をインタラクティブにクロップ\n",
        "    - ROIで指定したナビゲーション部分のスペクトルをインタラクティブに表示"
      ]
    },
    {
      "cell_type": "code",
      "execution_count": null,
      "metadata": {
        "id": "9HQ6GIQplpyR"
      },
      "outputs": [],
      "source": [
        "# データの作成\n",
        "import hyperspy.api as hs\n",
        "from skimage.data import astronaut\n",
        "s = hs.signals.Signal1D(astronaut())\n",
        "\n",
        "# Calibrate the image\n",
        "s.axes_manager[0].name = \"width\"\n",
        "s.axes_manager[0].scale = 0.13\n",
        "s.axes_manager[0].offset = -29.2\n",
        "s.axes_manager[0].units = \"cm\"\n",
        "\n",
        "s.axes_manager[1].name = \"height\"\n",
        "s.axes_manager[1].scale = 0.13\n",
        "s.axes_manager[1].offset = -12.9\n",
        "s.axes_manager[1].units = \"cm\"\n",
        "\n",
        "s.axes_manager[2].name = \"RGB\"\n",
        "s.to_signal2D().save(\"astronaut.hdf5\")\n",
        "\n",
        "# イメージが3枚スタックされているデータ（ナビゲーション：１次元、シグナル：２次元）\n",
        "im2 = hs.load(\"astronaut.hdf5\")\n",
        "im2"
      ]
    },
    {
      "cell_type": "code",
      "execution_count": null,
      "metadata": {
        "id": "pqBY-CZelpyR"
      },
      "outputs": [],
      "source": [
        "# hs.plot()では、ナビゲーションとシグナルが図示される\n",
        "# ナビゲーションのFigureには左端に赤い縦線があり、右にドラッグすると2枚目、3枚目の画像が下のFigureに表示される\n",
        "im2.plot()"
      ]
    },
    {
      "cell_type": "code",
      "execution_count": null,
      "metadata": {
        "id": "aQRnMu-nlpyS"
      },
      "outputs": [],
      "source": [
        "# navigatorオプションでスタックされた画像を切り替え表示することができる\n",
        "im2.plot(navigator='slider')"
      ]
    },
    {
      "cell_type": "code",
      "execution_count": null,
      "metadata": {
        "id": "BAC-lrtYlpyS"
      },
      "outputs": [],
      "source": [
        "# hs.plot.plot_images(\"path_to_img\")で、スタックされた画像をプロットすることができる\n",
        "# この画像はメタデータによって眉間に座標原点が設定されているため、座標のシフトが確認できます。\n",
        "hs.plot.plot_images(im2)"
      ]
    },
    {
      "cell_type": "code",
      "execution_count": null,
      "metadata": {
        "id": "Pg-bxJ-WlpyS"
      },
      "outputs": [],
      "source": [
        "# 念の為、Markerを使用し、座標原点がどこに設定されてるか確認します\n",
        "im2.plot(axes_ticks=True)\n",
        "im2.add_marker(hs.plot.markers.point(0, 0))"
      ]
    },
    {
      "cell_type": "code",
      "execution_count": null,
      "metadata": {
        "id": "-JnjDgUJlpyS"
      },
      "outputs": [],
      "source": [
        "#　hs.plot.plot_images のいくつかのオプションの例\n",
        "hs.plot.plot_images(im2, axes_decor=\"off\", colorbar=False, label=[\"Akarui\", \"Futsu\", \"Kurai\"])"
      ]
    },
    {
      "cell_type": "code",
      "execution_count": null,
      "metadata": {
        "id": "FODRkQEYlpyT"
      },
      "outputs": [],
      "source": [
        "# inavでナビゲーションを操作する\n",
        "hs.plot.plot_images(im2.inav[2])"
      ]
    },
    {
      "cell_type": "code",
      "execution_count": null,
      "metadata": {
        "id": "tt3QgakrlpyT"
      },
      "outputs": [],
      "source": [
        "hs.plot.plot_images(im2.inav[1:])"
      ]
    },
    {
      "cell_type": "code",
      "execution_count": null,
      "metadata": {
        "id": "FjOswvHqlpyT"
      },
      "outputs": [],
      "source": [
        "# isigでプロットする領域をスライスする\n",
        "# 前述この画像は眉間に座標原点が設定されています\n",
        "hs.plot.plot_images(im2.isig[128:-128, :-256])"
      ]
    },
    {
      "cell_type": "code",
      "execution_count": null,
      "metadata": {
        "id": "jg0IdpVYlpyT"
      },
      "outputs": [],
      "source": [
        "# さらに、inavで表示する画像を指定する\n",
        "im2.inav[1].isig[128:-128, :-256].plot()"
      ]
    },
    {
      "cell_type": "code",
      "execution_count": null,
      "metadata": {
        "id": "HbZhH0tYlpyT"
      },
      "outputs": [],
      "source": [
        "# ROIを使用し切り出すこともできる\n",
        "# この画像はcmでキャリブレーションされています\n",
        "roi = hs.roi.RectangularROI(left=0, right=10, top=0, bottom=5)\n",
        "im2r = roi(im2)\n",
        "hs.plot.plot_images(im2r.inav[0])"
      ]
    },
    {
      "cell_type": "code",
      "execution_count": null,
      "metadata": {
        "id": "3iml7m8JlpyT"
      },
      "outputs": [],
      "source": [
        "# ROI　を利用し、インタラクティブにスペクトルを表示することもできます。\n",
        "# 画像０を用意\n",
        "im0 = hs.datasets.example_signals.reference_hologram()\n",
        "im0.plot()"
      ]
    },
    {
      "cell_type": "code",
      "execution_count": null,
      "metadata": {
        "id": "-5XbZJIflpyT"
      },
      "outputs": [],
      "source": [
        "# 画像１を用意\n",
        "im1 = hs.datasets.example_signals.object_hologram()\n",
        "im1.plot()"
      ]
    },
    {
      "cell_type": "code",
      "execution_count": null,
      "metadata": {
        "id": "hnTXCllNlpyU"
      },
      "outputs": [],
      "source": [
        "# ラインを用意\n",
        "line_profile = hs.roi.Line2DROI(400, 250, 220, 600)\n",
        "# 画像０と画像１にラインを置いて、スペクトルをプロットする。\n",
        "# 上のセルの画像に表示されたラインを操作すると、下のスペクトルがインタラクティブに表示されます。\n",
        "line0 = line_profile.interactive(im0)\n",
        "line1 = line_profile.interactive(im1)\n",
        "hs.plot.plot_spectra([line0, line1])"
      ]
    },
    {
      "cell_type": "code",
      "execution_count": null,
      "metadata": {
        "id": "Xa5gzLemlpyU"
      },
      "outputs": [],
      "source": [
        "# インタラクティブにクロップすることも可能\n",
        "im = hs.datasets.example_signals.object_hologram()\n",
        "roi = hs.roi.RectangularROI(left=120, right=460., top=300, bottom=560)\n",
        "im.plot()\n",
        "imc = roi.interactive(im)\n",
        "imc.plot()"
      ]
    },
    {
      "cell_type": "markdown",
      "metadata": {
        "id": "1LDJeWXZlpyU"
      },
      "source": [
        "#　バックグラウンドの除去\n",
        "\n",
        "GUI、あるいはCLIで、バックグラウンドを除去します。\n",
        "\n",
        "※Fastオプションは、Gaussian、Offset、 Power law以外のバックグラウンドタイプでは正確に除去できない可能性がありますが、フィッティングパラメータに当たりをつける場面では便利です。"
      ]
    },
    {
      "cell_type": "code",
      "execution_count": null,
      "metadata": {
        "id": "A5KvPBK6lpyU"
      },
      "outputs": [],
      "source": [
        "# GUI\n",
        "# 下図においてバッググラウンドのパラメータを推測する領域をクリックアンドドロップで選択し、バックグラウンドのタイプをプルダウンメニューから選択 -> Apply\n",
        "s = hs.datasets.artificial_data.get_core_loss_eels_signal(add_powerlaw=True)\n",
        "s.remove_background(zero_fill=False)"
      ]
    },
    {
      "cell_type": "code",
      "execution_count": null,
      "metadata": {
        "id": "naBDwpbulpyU"
      },
      "outputs": [],
      "source": [
        "# CLI\n",
        "sb = s.remove_background(signal_range=(450,650),\n",
        "                        background_type='PowerLaw')\n",
        "sb.plot()"
      ]
    },
    {
      "cell_type": "markdown",
      "metadata": {
        "id": "gxNtbdmmlpyU"
      },
      "source": [
        "# キャリブレーション\n",
        "\n",
        "GUIでキャリブレーションができます。"
      ]
    },
    {
      "cell_type": "code",
      "execution_count": null,
      "metadata": {
        "id": "uruLE7oClpyU"
      },
      "outputs": [],
      "source": [
        "# マウスをクリック＆ドラッグして領域を選択する\n",
        "# New left, New right に値を入れる\n",
        "# Apply\n",
        "s = hs.datasets.artificial_data.get_core_loss_eels_signal(add_powerlaw=True)\n",
        "s.plot()\n",
        "s.calibrate()"
      ]
    },
    {
      "cell_type": "markdown",
      "metadata": {
        "id": "UN2NJtDklpyU"
      },
      "source": [
        "# スムージング\n",
        "\n",
        "以下3種のスムージングが可能です。\n",
        "1. Lowess data smoothing\n",
        "2. Total variation data smoothing\n",
        "3. Savitzky-Golay filter"
      ]
    },
    {
      "cell_type": "code",
      "execution_count": null,
      "metadata": {
        "id": "oRGpixxClpyU"
      },
      "outputs": [],
      "source": [
        "# Lowess data smoothing\n",
        "# https://jp.mathworks.com/help/curvefit/lowess-smoothing.html\n",
        "s = hs.datasets.artificial_data.get_core_loss_eels_signal(add_powerlaw=True)\n",
        "s.plot()\n",
        "s.smooth_lowess()"
      ]
    },
    {
      "cell_type": "code",
      "execution_count": null,
      "metadata": {
        "id": "M3GG3QOFlpyV"
      },
      "outputs": [],
      "source": [
        "# Total variation data smoothing\n",
        "# https://en.wikipedia.org/wiki/Total_variation_denoising\n",
        "s = hs.datasets.artificial_data.get_core_loss_eels_signal(add_powerlaw=True)\n",
        "s.plot()\n",
        "s.smooth_tv()"
      ]
    },
    {
      "cell_type": "code",
      "execution_count": null,
      "metadata": {
        "id": "8N4fnBuElpyV"
      },
      "outputs": [],
      "source": [
        "# Savitzky-Golay filter\n",
        "# https://jp.mathworks.com/help/signal/ref/sgolayfilt.html\n",
        "s = hs.datasets.artificial_data.get_core_loss_eels_signal(add_powerlaw=True)\n",
        "s.plot()\n",
        "s.smooth_savitzky_golay()"
      ]
    },
    {
      "cell_type": "markdown",
      "metadata": {
        "id": "9ybMOlpflpyV"
      },
      "source": [
        "# スパイクの除去"
      ]
    },
    {
      "cell_type": "code",
      "execution_count": null,
      "metadata": {
        "id": "qxK_Fu34lpyV"
      },
      "outputs": [],
      "source": [
        "# Spikeを除去するデータ\n",
        "s = hs.datasets.artificial_data.get_core_loss_eels_signal(add_powerlaw=True)\n",
        "s.plot()"
      ]
    },
    {
      "cell_type": "markdown",
      "metadata": {
        "id": "rvY_LpdRlpyV"
      },
      "source": [
        "1. 「Show derivative histogram」をクリックし、スパイクがどの程度の大きさで存在しているかを確認します。\n",
        "2. 適切な閾値を「Threshold」ボックスに入力する。\n",
        "3. 「Find next」をクリックして、最初のスパイクを見つける。\n",
        "4. 必要に応じて、スパイクを置き換えるために使用する境界を、表示されたプロット上でクリック＆ドラッグして調整。\n",
        "5. スパイクと置換データを表示し、「Remove spike」をクリックすると、データが変更される。ツールは自動的に次のスパイクを探し出し、置き換える。\n",
        "6. データセットが終了するまでこのプロセスを繰り返す。\n",
        "7. 終了したら「OK」をクリックし、スパイク除去ツールを終了。"
      ]
    },
    {
      "cell_type": "code",
      "execution_count": null,
      "metadata": {
        "id": "0vRaL4eDlpyV"
      },
      "outputs": [],
      "source": [
        "# Spike除去ツールを表示\n",
        "s.spikes_removal_tool()"
      ]
    },
    {
      "cell_type": "code",
      "execution_count": null,
      "metadata": {
        "id": "BcHea6_NlpyW"
      },
      "outputs": [],
      "source": [
        "# Spikeを除去したデータ\n",
        "s.plot()"
      ]
    },
    {
      "cell_type": "code",
      "execution_count": null,
      "metadata": {
        "id": "nG4O4JQOlpyW"
      },
      "outputs": [],
      "source": []
    },
    {
      "cell_type": "code",
      "execution_count": null,
      "metadata": {
        "id": "hzzx0YvVlpyW"
      },
      "outputs": [],
      "source": [
        "#  元データ\n",
        "s = hs.datasets.artificial_data.get_core_loss_eels_signal(add_powerlaw=True)\n",
        "s.plot()"
      ]
    },
    {
      "cell_type": "markdown",
      "metadata": {
        "id": "_ZmPHXhplpyX"
      },
      "source": [
        "# 機械学習\n",
        "\n",
        "多次元データを分析する際に便利な機械学習アルゴリズムが利用できます。\n",
        "- 特異値分解\n",
        "    - SVD（デフォルト）\n",
        "    - PCA\n",
        "    - MLPCA\n",
        "    - sklearn_pca\n",
        "    - NMF\n",
        "    - sparse_pca\n",
        "    - mini_batch_sparse_pca\n",
        "    - RPCA\n",
        "    - ORPCA\n",
        "    - ORNMF\n",
        "- ブラインド信号源分離\n",
        "    - sklearn_fastica（デフォルト）\n",
        "    - orthomax\n",
        "    - FastICA\n",
        "    - JADE\n",
        "    - CuBICA\n",
        "    - TDSEP\n",
        "- クラスター分析\n",
        "    - scikit-learnのsklearn.clustering"
      ]
    },
    {
      "cell_type": "markdown",
      "metadata": {
        "id": "BJhAP6pwlpyX"
      },
      "source": [
        "## 特異値分解（SVD）"
      ]
    },
    {
      "cell_type": "code",
      "execution_count": null,
      "metadata": {
        "id": "Mo2F-XAnlpyX"
      },
      "outputs": [],
      "source": [
        "# 先ほどダウンロードしたEELSスペクトルを使用します。ナビゲーションは２次元、シグナルは１次元のスペクトルです。\n",
        "s = hs.load(\"machine_learning/CL1.hdf5\")\n",
        "s"
      ]
    },
    {
      "cell_type": "code",
      "execution_count": null,
      "metadata": {
        "id": "pu6atoKUlpyY"
      },
      "outputs": [],
      "source": [
        "s.plot()"
      ]
    },
    {
      "cell_type": "code",
      "execution_count": null,
      "metadata": {
        "id": "B_GZfjLmlpyY"
      },
      "outputs": [],
      "source": [
        "# decomposition\n",
        "# アルゴリズムはデフォルトで　SVDとなる\n",
        "s.decomposition()"
      ]
    },
    {
      "cell_type": "code",
      "execution_count": null,
      "metadata": {
        "id": "VDOFWfEIlpyY"
      },
      "outputs": [],
      "source": [
        "# オリジナルのモデルはそのままに、decompositionしたモデルを別に取得することもできる\n",
        "sc = s.get_decomposition_model(0)\n",
        "sc"
      ]
    },
    {
      "cell_type": "code",
      "execution_count": null,
      "metadata": {
        "id": "xNifk9fplpyY"
      },
      "outputs": [],
      "source": [
        "#  スクリープロットはスペクトラムとして変数に格納可能\n",
        "# スクリープロットはアルゴリズムがSVD, PCAの場合のみ可能\n",
        "sp = s.plot_explained_variance_ratio()\n",
        "sp.plot()"
      ]
    },
    {
      "cell_type": "code",
      "execution_count": null,
      "metadata": {
        "id": "Be_VB2sKlpyY"
      },
      "outputs": [],
      "source": [
        "# オプション：　Componentsの数、マーカー変化の閾値、0-based indexing -> 1-based...\n",
        "s.plot_explained_variance_ratio(n=10, threshold=4, xaxis_type='number')"
      ]
    },
    {
      "cell_type": "code",
      "execution_count": null,
      "metadata": {
        "id": "gRRcks08lpyY"
      },
      "outputs": [],
      "source": [
        "# 結果を全てプロット\n",
        "_ = s.plot_decomposition_results()"
      ]
    },
    {
      "cell_type": "code",
      "execution_count": null,
      "metadata": {
        "id": "kINhcGkWlpyZ"
      },
      "outputs": [],
      "source": [
        "# 結果を部分的にプロット\n",
        "_ = s.plot_decomposition_loadings(4)\n",
        "_ = s.plot_decomposition_factors(4, comp_label=\"\")"
      ]
    },
    {
      "cell_type": "markdown",
      "metadata": {
        "id": "ywD5KNTLlpyZ"
      },
      "source": [
        "## ブラインド信号源分離（Blind source separation）"
      ]
    },
    {
      "cell_type": "code",
      "execution_count": null,
      "metadata": {
        "id": "H1bTQenolpyZ"
      },
      "outputs": [],
      "source": [
        "s.blind_source_separation(5, diff_order=1)"
      ]
    },
    {
      "cell_type": "code",
      "execution_count": null,
      "metadata": {
        "id": "Vf_9iaN4lpyZ"
      },
      "outputs": [],
      "source": [
        "# 結果をプロット①\n",
        "s.plot_bss_results()"
      ]
    },
    {
      "cell_type": "code",
      "execution_count": null,
      "metadata": {
        "id": "wwIxKDeZlpyZ"
      },
      "outputs": [],
      "source": [
        "# 結果をプロット②\n",
        "_ = s.plot_bss_loadings()\n",
        "_ = s.plot_bss_factors()"
      ]
    },
    {
      "cell_type": "markdown",
      "metadata": {
        "id": "lM-534YklpyZ"
      },
      "source": [
        "# フィッティング\n",
        "多次元データセットのスペクトル（１次元のシグナル）及びイメージ（２次元のシグナル）のカーブフィッティングを行うことができます。\n",
        "\n",
        "※フィッティング対象がイメージである場合、結果のプロットは実装されていません。  \n",
        "※イメージに対する解析的勾配ベース（analytical gradient-based fitting）のフィッティングも実装されていません。"
      ]
    },
    {
      "cell_type": "code",
      "execution_count": null,
      "metadata": {
        "id": "VP46ZGealpyZ"
      },
      "outputs": [],
      "source": [
        "# Generating the synthetic data\n",
        "\n",
        "domain = 32 #size of the square domain\n",
        "hfactor = 600\n",
        "cent = (domain//2, domain//2)\n",
        "y,x = np.ogrid[-cent[0]:domain-cent[0], -cent[1]:domain-cent[1]]\n",
        "\n",
        "def gaussian2d(x, y, A=1, x0=0, y0=0, sigmax=20, sigmay=10):\n",
        "    return A * np.exp(-((x-x0)**2 / 2 / sigmax ** 2 + (y-y0)**2 / 2 / sigmay ** 2))\n",
        "\n",
        "center_narrow = 50 + 10 * np.sin(3 * np.pi * x / domain) * np.cos(4 * np.pi * y / domain)\n",
        "center_wide = 50 + 10 * (-0.1 * np.sin(3 * np.pi * x / domain) * np.cos(4 * np.pi * y / domain))\n",
        "\n",
        "r = np.sqrt(x**2 + y**2)\n",
        "h_narrow = .5 * (.5 + np.sin(r)**2) * gaussian2d(x, y) *  hfactor\n",
        "h_wide = (.5 + np.cos(r)**2) * gaussian2d(x, y) *  hfactor\n",
        "\n",
        "s = hs.signals.Signal1D(np.ones((domain,domain, 1024)))\n",
        "s.metadata.General.title = 'Two gaussians'\n",
        "s.axes_manager[0].name = \"x\"\n",
        "s.axes_manager[0].units = \"nm\"\n",
        "s.axes_manager[1].name = \"y\"\n",
        "s.axes_manager[1].units = \"nm\"\n",
        "\n",
        "s.axes_manager[2].name = \"Energy\"\n",
        "s.axes_manager[2].name = \"eV\"\n",
        "s.axes_manager[2].scale = 0.1\n",
        "m0 = s.create_model()\n",
        "gs01 = hs.model.components1D.GaussianHF()\n",
        "gs01.name = \"wide\"\n",
        "m0.append(gs01)\n",
        "gs01.fwhm.value = 60\n",
        "gs01.centre.map['values'][:] = center_wide\n",
        "gs01.centre.map['is_set'][:] = True\n",
        "gs01.height.map['values'][:] = h_wide\n",
        "gs01.height.map['is_set'][:] = True\n",
        "\n",
        "gs02 = hs.model.components1D.GaussianHF()\n",
        "gs02.name = \"narrow\"\n",
        "m0.append(gs02)\n",
        "gs02.fwhm.value = 6\n",
        "gs02.centre.map['values'][:] = center_narrow\n",
        "gs02.centre.map['is_set'][:] = True\n",
        "gs02.height.map['values'][:] = h_narrow\n",
        "gs02.height.map['is_set'][:] = True\n",
        "s.data = m0.as_signal().data\n",
        "s.add_poissonian_noise(random_state=0)\n",
        "m0.store(\"ground truth\")\n",
        "s.save(\"two_peaks.hspy\", overwrite=True)"
      ]
    },
    {
      "cell_type": "code",
      "execution_count": null,
      "metadata": {
        "id": "Bjr4QZISlpya"
      },
      "outputs": [],
      "source": [
        "s = hs.load(\"two_peaks.hspy\")\n",
        "s"
      ]
    },
    {
      "cell_type": "code",
      "execution_count": null,
      "metadata": {
        "id": "4GDcOJKhlpya"
      },
      "outputs": [],
      "source": [
        "s.data.shape"
      ]
    },
    {
      "cell_type": "code",
      "execution_count": null,
      "metadata": {
        "id": "erDxgDGHlpya"
      },
      "outputs": [],
      "source": [
        "s.plot()"
      ]
    },
    {
      "cell_type": "code",
      "execution_count": null,
      "metadata": {
        "id": "SqF0_imdlpya"
      },
      "outputs": [],
      "source": [
        "# モデルの作成\n",
        "# create_model()は、シグナルが「Signal１D」の場合は「Model1D」を、シグナルが「Signal２D」の場合は「Model２D」を作成する\n",
        "\n",
        "m = s.create_model()"
      ]
    },
    {
      "cell_type": "code",
      "execution_count": null,
      "metadata": {
        "id": "znQ5Qsjilpya"
      },
      "outputs": [],
      "source": [
        "# モデルの確認\n",
        "# モデルにはまだ何もない\n",
        "\n",
        "# 注意：同じsignal1Dのデータでも、モデルがいつも空とは限りません。\n",
        "# 例えば、EELSデータであると認識された場合は「power-law background component」が自動で追加されます。\n",
        "\n",
        "m.components"
      ]
    },
    {
      "cell_type": "code",
      "execution_count": null,
      "metadata": {
        "id": "J74V2Tgllpyb"
      },
      "outputs": [],
      "source": [
        "# モデルの構造を確認\n",
        "# シグナルの種類は「Signal1D」、Titleは「Two gaussians」なので、「Model1D: Two gaussians」とだけ表示される。\n",
        "\n",
        "m.print_current_values()"
      ]
    },
    {
      "cell_type": "code",
      "execution_count": null,
      "metadata": {
        "id": "C0z8_L_ulpyb"
      },
      "outputs": [],
      "source": [
        "# 念の為、シグナルの種類とTitleを確認\n",
        "s"
      ]
    },
    {
      "cell_type": "code",
      "execution_count": null,
      "metadata": {
        "id": "-sG5k84alpyb"
      },
      "outputs": [],
      "source": [
        "# シグナルが「Signal２D」の場合は「Model２D」を作成する\n",
        "\n",
        "im = hs.signals.Signal2D(np.arange(300).reshape(3, 10, 10))\n",
        "mod = im.create_model()\n",
        "mod.print_current_values()"
      ]
    },
    {
      "cell_type": "markdown",
      "metadata": {
        "id": "5h2GbXuPlpyb"
      },
      "source": [
        "### Componentsについて\n",
        "components1D, components2Dには、事前に定義されたフィッティング関数がいくつかあります。\n",
        "\n",
        "- components1D\n",
        "    - Arctan\n",
        "    - Bleasdale\n",
        "    - Doniach\n",
        "    - Erf\n",
        "    - Exponential\n",
        "    - Expression\n",
        "    - Gaussian\n",
        "    - GaussianHF\n",
        "    - HeavisideStep\n",
        "    - Logistic\n",
        "    - Lorentzian\n",
        "    - Offset\n",
        "    - Polynomial\n",
        "    - PowerLaw\n",
        "    - SEE\n",
        "    - ScalableFixedPattern\n",
        "    - SkewNormal\n",
        "    - Voigt\n",
        "    - SplitVoigt\n",
        "    - VolumePlasmonDrude\n",
        "\n",
        "- components1D（特定のシグナルタイプ対象）\n",
        "    - EELSArctan\n",
        "    - DoublePowerLaw\n",
        "    - EELSCLEdge\n",
        "    - PESCoreLineShape\n",
        "    - PESVoigt\n",
        "    - SEE\n",
        "    - Vignetting\n",
        "  \n",
        "- components2D\n",
        "    - Expression\n",
        "    - Gaussian2D\n",
        "    \n",
        "ただし、他の数学的関数、固定パターン、あるいはPython関数をComponentsとして追加することはとても簡単です。"
      ]
    },
    {
      "cell_type": "code",
      "execution_count": null,
      "metadata": {
        "id": "pHKyuczclpyb"
      },
      "outputs": [],
      "source": [
        "# Components（フィッティング関数）のインスタンスを作成し、Model1Dに追加する\n",
        "\n",
        "g1 = hs.model.components1D.GaussianHF()\n",
        "g2 = hs.model.components1D.GaussianHF()\n",
        "m.extend([g1, g2])"
      ]
    },
    {
      "cell_type": "code",
      "execution_count": null,
      "metadata": {
        "id": "w1w28Q8plpyb"
      },
      "outputs": [],
      "source": [
        "# モデルの確認1\n",
        "\n",
        "m.components"
      ]
    },
    {
      "cell_type": "code",
      "execution_count": null,
      "metadata": {
        "id": "FZZb8dsflpyc"
      },
      "outputs": [],
      "source": [
        "# モデルの確認2\n",
        "\n",
        "m.print_current_values()"
      ]
    },
    {
      "cell_type": "code",
      "execution_count": null,
      "metadata": {
        "id": "lLeqLJ20lpyc"
      },
      "outputs": [],
      "source": [
        "# それぞれのComponentsに名前をつける\n",
        "\n",
        "g1.name = \"wide\"\n",
        "g2.name = \"narrow\"\n"
      ]
    },
    {
      "cell_type": "code",
      "execution_count": null,
      "metadata": {
        "id": "hpieKtdMlpyc"
      },
      "outputs": [],
      "source": [
        "# モデルの確認1\n",
        "\n",
        "m.components"
      ]
    },
    {
      "cell_type": "code",
      "execution_count": null,
      "metadata": {
        "id": "VmwvBvoIlpyc"
      },
      "outputs": [],
      "source": [
        "# モデルの確認2\n",
        "\n",
        "m.print_current_values()"
      ]
    },
    {
      "cell_type": "code",
      "execution_count": null,
      "metadata": {
        "id": "dMhky1EElpyc"
      },
      "outputs": [],
      "source": [
        "# Componentsには、名前、インデックス、componentsモデルのアトリビュートでアクセスできる。\n",
        "\n",
        "m[\"wide\"]"
      ]
    },
    {
      "cell_type": "code",
      "execution_count": null,
      "metadata": {
        "id": "FAv7eSMnlpyc"
      },
      "outputs": [],
      "source": [
        "m[0]"
      ]
    },
    {
      "cell_type": "code",
      "execution_count": null,
      "metadata": {
        "id": "qpIbX7IElpyc"
      },
      "outputs": [],
      "source": [
        "m[1]"
      ]
    },
    {
      "cell_type": "code",
      "execution_count": null,
      "metadata": {
        "id": "9K24j4q9lpyd"
      },
      "outputs": [],
      "source": [
        "m.components.wide"
      ]
    },
    {
      "cell_type": "code",
      "execution_count": null,
      "metadata": {
        "id": "JnaKgciRlpyd"
      },
      "outputs": [],
      "source": [
        "# activeアトリビュートにアクセスして、ComponentsのOnとOffを切り替えることができる\n",
        "\n",
        "m.components.wide.active"
      ]
    },
    {
      "cell_type": "code",
      "execution_count": null,
      "metadata": {
        "id": "_8Rxj5JBlpyd"
      },
      "outputs": [],
      "source": [
        "m.components.wide.active = False"
      ]
    },
    {
      "cell_type": "code",
      "execution_count": null,
      "metadata": {
        "id": "fHNKkUfvlpyd"
      },
      "outputs": [],
      "source": [
        "m.components.wide.active"
      ]
    },
    {
      "cell_type": "code",
      "execution_count": null,
      "metadata": {
        "id": "ssmVKm3Tlpyd"
      },
      "outputs": [],
      "source": [
        "m.print_current_values()"
      ]
    },
    {
      "cell_type": "code",
      "execution_count": null,
      "metadata": {
        "id": "0KN01Fnalpyd"
      },
      "outputs": [],
      "source": [
        "m.components.wide.active = True"
      ]
    },
    {
      "cell_type": "code",
      "execution_count": null,
      "metadata": {
        "id": "mzzNWJJVlpyd"
      },
      "outputs": [],
      "source": [
        "m.signal"
      ]
    },
    {
      "cell_type": "code",
      "execution_count": null,
      "metadata": {
        "id": "oGWtHYtTlpyf"
      },
      "outputs": [],
      "source": [
        "m.signal.models"
      ]
    },
    {
      "cell_type": "code",
      "execution_count": null,
      "metadata": {
        "id": "B2DFKKZ9lpyf"
      },
      "outputs": [],
      "source": [
        "# この時点でのモデルを保管しておくこともできる\n",
        "m.store(name=\"new\")\n",
        "m.signal.models"
      ]
    },
    {
      "cell_type": "code",
      "execution_count": null,
      "metadata": {
        "id": "sQCMGLV2lpyf"
      },
      "outputs": [],
      "source": [
        "m.components"
      ]
    },
    {
      "cell_type": "code",
      "execution_count": null,
      "metadata": {
        "id": "Lp2AEOKVlpyf"
      },
      "outputs": [],
      "source": [
        "# Componentsのパラメータにアクセスする\n",
        "g1.fwhm.value"
      ]
    },
    {
      "cell_type": "code",
      "execution_count": null,
      "metadata": {
        "id": "HpBFme-Qlpyf"
      },
      "outputs": [],
      "source": [
        "# Componentsのパラメータには、先ほど付与した名前でアクセスすることもできる\n",
        "m.components.wide.fwhm.value"
      ]
    },
    {
      "cell_type": "code",
      "execution_count": null,
      "metadata": {
        "id": "gwX47cZ6lpyf"
      },
      "outputs": [],
      "source": [
        "# 上記の方法でパラメータに値を代入する\n",
        "m.components.wide.fwhm.value = 30\n",
        "m.print_current_values()"
      ]
    },
    {
      "cell_type": "code",
      "execution_count": null,
      "metadata": {
        "id": "glH3J7Lxlpyf"
      },
      "outputs": [],
      "source": [
        "# 下記のようにパラメータを設定することもできる\n",
        "m.set_parameters_value('height', 100)\n",
        "m.print_current_values()"
      ]
    },
    {
      "cell_type": "markdown",
      "metadata": {
        "id": "c10MvDC-lpyg"
      },
      "source": [
        "## ナビゲーション単一セルのシグナルをフィッティング"
      ]
    },
    {
      "cell_type": "code",
      "execution_count": null,
      "metadata": {
        "id": "v8mTUc2vlpyg"
      },
      "outputs": [],
      "source": [
        "# まずは（0,0）のナビゲーションのシグナルについてフィッティングしてみる\n",
        "s.plot()"
      ]
    },
    {
      "cell_type": "code",
      "execution_count": null,
      "metadata": {
        "id": "wo9by_pclpyg"
      },
      "outputs": [],
      "source": [
        "# inavでスライスする\n",
        "m00 = m.inav[0, 0]\n",
        "\n",
        "#　plot_componentsをTrueで指定\n",
        "m00.plot(plot_components=True)"
      ]
    },
    {
      "cell_type": "code",
      "execution_count": null,
      "metadata": {
        "id": "QDOdaNi2lpyg"
      },
      "outputs": [],
      "source": [
        "m00.components.wide.active = True\n",
        "m00.components.narrow.active = True\n",
        "m00.plot(plot_components=True)"
      ]
    },
    {
      "cell_type": "code",
      "execution_count": null,
      "metadata": {
        "id": "IRQTtJSglpyg"
      },
      "outputs": [],
      "source": [
        "# GUIでパラメータを設定する場合\n",
        "m.gui()"
      ]
    },
    {
      "cell_type": "code",
      "execution_count": null,
      "metadata": {
        "id": "mckgPvS6lpyg"
      },
      "outputs": [],
      "source": [
        "# CLIでパラメータを設定する場合\n",
        "m00.components.narrow.centre.value = 50\n",
        "m00.components.wide.centre.value = 60\n",
        "m00.components.narrow.fwhm.value  = 30\n",
        "m00.components.wide.fwhm.value  = 1"
      ]
    },
    {
      "cell_type": "code",
      "execution_count": null,
      "metadata": {
        "id": "8A_N0fOulpyg"
      },
      "outputs": [],
      "source": [
        "# 青は合算？\n",
        "\n",
        "m00.plot(plot_components=True)"
      ]
    },
    {
      "cell_type": "code",
      "execution_count": null,
      "metadata": {
        "id": "14T_tCwWlpyh"
      },
      "outputs": [],
      "source": [
        "# ノイズの分散を定義して（重み付き非線形最小二乗法を自動的に実行する）、よりフィットさせる\n",
        "m00.signal.estimate_poissonian_noise_variance(expected_value=m00.as_signal())\n",
        "m00.signal.metadata"
      ]
    },
    {
      "cell_type": "code",
      "execution_count": null,
      "metadata": {
        "id": "t0DAFc7qlpyh"
      },
      "outputs": [],
      "source": [
        "# Fit\n",
        "m00.fit()"
      ]
    },
    {
      "cell_type": "code",
      "execution_count": null,
      "metadata": {
        "id": "7C5wmtBolpyh"
      },
      "outputs": [],
      "source": [
        "# 結果を確認\n",
        "m00.print_current_values()"
      ]
    },
    {
      "cell_type": "code",
      "execution_count": null,
      "metadata": {
        "id": "toh2JwRWlpyh"
      },
      "outputs": [],
      "source": [
        "# chi-squared\n",
        "print(m00.chisq.data)\n",
        "\n",
        "# degrees of freedom\n",
        "print(m00.dof.data)\n",
        "\n",
        "# reduced chi-squared\n",
        "print(m00.red_chisq.data)"
      ]
    },
    {
      "cell_type": "markdown",
      "metadata": {
        "id": "8Yr05FR9lpyh"
      },
      "source": [
        "## ナビゲーション0行目のシグナルをフィッティング"
      ]
    },
    {
      "cell_type": "code",
      "execution_count": null,
      "metadata": {
        "id": "MgZzVSUklpyh"
      },
      "outputs": [],
      "source": [
        "# 今度は、0行目のナビゲーションについてフィッティングしてみる\n",
        "ml = m.inav[:, 0]\n",
        "ml.plot()"
      ]
    },
    {
      "cell_type": "code",
      "execution_count": null,
      "metadata": {
        "id": "PiLjmQQ6lpyh"
      },
      "outputs": [],
      "source": [
        "# 1行に含まれる全てのシグナルをフィッティングするためには、multifit()を使用する\n",
        "ml.signal.estimate_poissonian_noise_variance()\n",
        "ml.multifit()"
      ]
    },
    {
      "cell_type": "code",
      "execution_count": null,
      "metadata": {
        "id": "gjmKQFablpyh"
      },
      "outputs": [],
      "source": [
        "# 結果を確認\n",
        "ml.red_chisq.plot()"
      ]
    },
    {
      "cell_type": "code",
      "execution_count": null,
      "metadata": {
        "id": "L_Og6fjhlpyh"
      },
      "outputs": [],
      "source": [
        "ml.components.narrow.height.plot()"
      ]
    },
    {
      "cell_type": "code",
      "execution_count": null,
      "metadata": {
        "id": "dXYw0zC7lpyh"
      },
      "outputs": [],
      "source": [
        "ml.components.narrow.centre.plot()"
      ]
    },
    {
      "cell_type": "code",
      "execution_count": null,
      "metadata": {
        "id": "NYR2D3uAlpyh"
      },
      "outputs": [],
      "source": [
        "ml.components.narrow.fwhm.plot()"
      ]
    },
    {
      "cell_type": "code",
      "execution_count": null,
      "metadata": {
        "id": "o2Jcg4m2lpyh"
      },
      "outputs": [],
      "source": [
        "# There doesn't seem to be any pattern in the variation of the FWHM, it seems to vary randomly around 6.\n",
        "# Let's check if its standard variation to value ratio:\n",
        "ml.components.narrow.fwhm.as_signal().data.std() / ml.components.narrow.fwhm.as_signal().data.mean()"
      ]
    },
    {
      "cell_type": "code",
      "execution_count": null,
      "metadata": {
        "id": "dQC6tSfwlpyi"
      },
      "outputs": [],
      "source": [
        "# That's around 5%, which, given the noisiness of the data, is consistent with this  parameter not varying at all,\n",
        "ml.components.wide.fwhm.as_signal().data.std() / ml.components.wide.fwhm.as_signal().data.mean()"
      ]
    },
    {
      "cell_type": "code",
      "execution_count": null,
      "metadata": {
        "id": "HN7bOianlpyi"
      },
      "outputs": [],
      "source": [
        "# The wide peaks std to value ratio is just .6%, therefore it is reasonable to think that this parameter is fixed too."
      ]
    },
    {
      "cell_type": "markdown",
      "metadata": {
        "id": "dGn4MPf_lpyi"
      },
      "source": [
        "## 全てのモデルをフィッティング"
      ]
    },
    {
      "cell_type": "code",
      "execution_count": null,
      "metadata": {
        "id": "Exw_nJrylpyi"
      },
      "outputs": [],
      "source": [
        "# ここまでを成果を一旦保存する\n",
        "s.models"
      ]
    },
    {
      "cell_type": "code",
      "execution_count": null,
      "metadata": {
        "id": "QwAUfSA6lpyi"
      },
      "outputs": [],
      "source": [
        "m.store(\"first line fitted\")\n",
        "m.signal.models"
      ]
    },
    {
      "cell_type": "code",
      "execution_count": null,
      "metadata": {
        "id": "gOUzuOPalpyj"
      },
      "outputs": [],
      "source": [
        "m.signal.estimate_poissonian_noise_variance()"
      ]
    },
    {
      "cell_type": "code",
      "execution_count": null,
      "metadata": {
        "id": "Qs_Cj4Jwlpyj"
      },
      "outputs": [],
      "source": [
        "# 全てのモデルをフィッティング\n",
        "m.multifit()"
      ]
    },
    {
      "cell_type": "code",
      "execution_count": null,
      "metadata": {
        "scrolled": true,
        "id": "TPdDJH74lpyj"
      },
      "outputs": [],
      "source": [
        "# All of those warnings suggest that something has indeed gone wrong.\n",
        "m.red_chisq.get_histogram().plot()"
      ]
    },
    {
      "cell_type": "markdown",
      "metadata": {
        "id": "hGU6GiTglpyj"
      },
      "source": [
        "The large number of pixels with a high $\\chi_{\\nu}^2$ indicates that something is wrong with the fit"
      ]
    },
    {
      "cell_type": "code",
      "execution_count": null,
      "metadata": {
        "id": "yJzGRpt_lpyj"
      },
      "outputs": [],
      "source": [
        "m.red_chisq.plot()"
      ]
    }
  ],
  "metadata": {
    "kernelspec": {
      "display_name": "Python 3 (ipykernel)",
      "language": "python",
      "name": "python3"
    },
    "language_info": {
      "codemirror_mode": {
        "name": "ipython",
        "version": 3
      },
      "file_extension": ".py",
      "mimetype": "text/x-python",
      "name": "python",
      "nbconvert_exporter": "python",
      "pygments_lexer": "ipython3",
      "version": "3.11.4"
    },
    "toc": {
      "base_numbering": 1,
      "nav_menu": {},
      "number_sections": true,
      "sideBar": true,
      "skip_h1_title": false,
      "title_cell": "Table of Contents",
      "title_sidebar": "Contents",
      "toc_cell": false,
      "toc_position": {
        "height": "calc(100% - 180px)",
        "left": "10px",
        "top": "150px",
        "width": "411.062px"
      },
      "toc_section_display": true,
      "toc_window_display": true
    },
    "colab": {
      "provenance": []
    }
  },
  "nbformat": 4,
  "nbformat_minor": 0
}